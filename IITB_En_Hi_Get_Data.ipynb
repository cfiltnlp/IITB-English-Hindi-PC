{
  "cells": [
    {
      "cell_type": "markdown",
      "metadata": {
        "id": "GA_m_2fb0crv"
      },
      "source": [
        "# Install Dependencies"
      ]
    },
    {
      "cell_type": "code",
      "execution_count": null,
      "metadata": {
        "id": "r1fA04_60UmS"
      },
      "outputs": [],
      "source": [
        "# !pip install datasets==1.18.1\n",
        "\n",
        "## Please ensure you have executed this at least once."
      ]
    },
    {
      "cell_type": "markdown",
      "metadata": {
        "id": "lWJZ1N3y0sFV"
      },
      "source": [
        "# Download Parallel Dataset"
      ]
    },
    {
      "cell_type": "code",
      "execution_count": null,
      "metadata": {
        "id": "TXl1MRwm00K0"
      },
      "outputs": [],
      "source": [
        "from datasets import load_dataset"
      ]
    },
    {
      "cell_type": "code",
      "execution_count": null,
      "metadata": {},
      "outputs": [],
      "source": [
        "dataset = load_dataset(\"cfilt/iitb-english-hindi\")"
      ]
    },
    {
      "cell_type": "markdown",
      "metadata": {
        "id": "2XeGVMFs97oO"
      },
      "source": [
        "### View Parallel Corpus Details"
      ]
    },
    {
      "cell_type": "code",
      "execution_count": 6,
      "metadata": {
        "colab": {
          "base_uri": "https://localhost:8080/"
        },
        "id": "1Kde71lZ0-Nj",
        "outputId": "4896f249-18b9-4810-a297-05af91e15b84"
      },
      "outputs": [
        {
          "data": {
            "text/plain": [
              "DatasetDict({\n",
              "    train: Dataset({\n",
              "        features: ['translation'],\n",
              "        num_rows: 1659083\n",
              "    })\n",
              "    validation: Dataset({\n",
              "        features: ['translation'],\n",
              "        num_rows: 520\n",
              "    })\n",
              "    test: Dataset({\n",
              "        features: ['translation'],\n",
              "        num_rows: 2507\n",
              "    })\n",
              "})"
            ]
          },
          "execution_count": 6,
          "metadata": {},
          "output_type": "execute_result"
        }
      ],
      "source": [
        "dataset"
      ]
    },
    {
      "cell_type": "markdown",
      "metadata": {
        "id": "nGYw2auZ1Boj"
      },
      "source": [
        "### Extract Dataset in Source and Target Text files"
      ]
    },
    {
      "cell_type": "code",
      "execution_count": null,
      "metadata": {
        "id": "fiGHV9pu1Huy"
      },
      "outputs": [],
      "source": [
        "source_train_file = open(\"source_train.txt\", \"w+\", encoding='utf8')\n",
        "target_train_file = open(\"target_train.txt\", \"w+\", encoding='utf8')\n",
        "for translation_pair in dataset[\"train\"][\"translation\"]:\n",
        "  source_sentence = translation_pair[\"en\"]\n",
        "  target_sentence = translation_pair[\"hi\"]\n",
        "  source_train_file.write(source_sentence.strip(\"\\n\") + \"\\n\")\n",
        "  target_train_file.write(target_sentence.strip(\"\\n\") + \"\\n\")\n",
        "source_train_file.close()\n",
        "target_train_file.close()\n",
        "\n",
        "source_valid_file = open(\"source_valid.txt\", \"w+\", encoding='utf8')\n",
        "target_valid_file = open(\"target_valid.txt\", \"w+\", encoding='utf8')\n",
        "for translation_pair in dataset[\"validation\"][\"translation\"]:\n",
        "  source_sentence = translation_pair[\"en\"]\n",
        "  target_sentence = translation_pair[\"hi\"]\n",
        "  source_valid_file.write(source_sentence.strip(\"\\n\") + \"\\n\")\n",
        "  target_valid_file.write(target_sentence.strip(\"\\n\") + \"\\n\")\n",
        "source_valid_file.close()\n",
        "target_valid_file.close()\n",
        "\n",
        "source_test_file = open(\"source_test.txt\", \"w+\", encoding='utf8')\n",
        "target_test_file = open(\"target_test.txt\", \"w+\", encoding='utf8')\n",
        "for translation_pair in dataset[\"test\"][\"translation\"]:\n",
        "  source_sentence = translation_pair[\"en\"]\n",
        "  target_sentence = translation_pair[\"hi\"]\n",
        "  source_test_file.write(source_sentence.strip(\"\\n\") + \"\\n\")\n",
        "  target_test_file.write(target_sentence.strip(\"\\n\") + \"\\n\")\n",
        "source_test_file.close()\n",
        "target_test_file.close()\n"
      ]
    },
    {
      "cell_type": "markdown",
      "metadata": {
        "id": "ypCqM4sm97oU"
      },
      "source": [
        "### Parallel Corpus Sentence Pairs (Linux)"
      ]
    },
    {
      "cell_type": "code",
      "execution_count": null,
      "metadata": {
        "colab": {
          "base_uri": "https://localhost:8080/"
        },
        "id": "Su-QLWNj2q3_",
        "outputId": "db93e78e-8946-4562-8009-3c03ecbb8a07"
      },
      "outputs": [],
      "source": [
        "! wc -l source_train.txt target_train.txt source_valid.txt target_valid.txt source_test.txt target_test.txt"
      ]
    },
    {
      "cell_type": "markdown",
      "metadata": {
        "id": "7-DrCMSX9-Uj"
      },
      "source": [
        "# Byte Pair Encoding (BPE)"
      ]
    },
    {
      "cell_type": "code",
      "execution_count": null,
      "metadata": {
        "id": "glwfqkT1-Xq0"
      },
      "outputs": [],
      "source": [
        "# ! pip install subword-nmt\n",
        "\n",
        "## Please ensure you have executed this at least once."
      ]
    },
    {
      "cell_type": "markdown",
      "metadata": {
        "id": "-1HwCe8j-DeB"
      },
      "source": [
        "## Learn BPE codes\n",
        "\n",
        "Note: Please make sure to generate the text files by running the previous cells"
      ]
    },
    {
      "cell_type": "code",
      "execution_count": null,
      "metadata": {
        "id": "yadrRQnd_BjW"
      },
      "outputs": [],
      "source": [
        "import os\n",
        "os.environ['NUM_OF_MERGE_OPERATIONS'] = \"16000\"\n",
        "\n",
        "# Or set environment variable NUM_OF_MERGE_OPERATIONS to desired number of BPE merge operations"
      ]
    },
    {
      "cell_type": "code",
      "execution_count": null,
      "metadata": {
        "id": "L0TT_5_H_WEQ"
      },
      "outputs": [],
      "source": [
        "! cat source_train.txt source_test.txt source_valid.txt > source_full.txt\n",
        "! cat target_train.txt target_test.txt target_valid.txt > target_full.txt"
      ]
    },
    {
      "cell_type": "code",
      "execution_count": null,
      "metadata": {
        "id": "IKz78QsM-ClQ"
      },
      "outputs": [],
      "source": [
        "! subword-nmt learn-bpe -s $NUM_OF_MERGE_OPERATIONS < source_full.txt > source-bpe.codes\n",
        "! subword-nmt learn-bpe -s $NUM_OF_MERGE_OPERATIONS < target_full.txt > target-bpe.codes\n"
      ]
    },
    {
      "cell_type": "markdown",
      "metadata": {
        "id": "qrn8-Jy6_quR"
      },
      "source": [
        "## Apply BPE"
      ]
    },
    {
      "cell_type": "code",
      "execution_count": null,
      "metadata": {
        "id": "qXSGRJC6-uXG"
      },
      "outputs": [],
      "source": [
        "! subword-nmt apply-bpe -c source-bpe.codes < source_train.txt > source_train_bpe.txt\n",
        "! subword-nmt apply-bpe -c source-bpe.codes < source_valid.txt > source_valid_bpe.txt\n",
        "! subword-nmt apply-bpe -c source-bpe.codes < source_test.txt > source_test_bpe.txt\n",
        "\n",
        "! subword-nmt apply-bpe -c target-bpe.codes < target_train.txt > target_train_bpe.txt\n",
        "! subword-nmt apply-bpe -c target-bpe.codes < target_valid.txt > target_valid_bpe.txt\n",
        "! subword-nmt apply-bpe -c target-bpe.codes < target_test.txt > target_test_bpe.txt\n"
      ]
    },
    {
      "cell_type": "markdown",
      "metadata": {
        "id": "9mF08CKAAgA0"
      },
      "source": [
        "## BPE Codes (Linux)"
      ]
    },
    {
      "cell_type": "code",
      "execution_count": null,
      "metadata": {
        "colab": {
          "base_uri": "https://localhost:8080/"
        },
        "id": "qxBoYjt8Afev",
        "outputId": "4fd79ae1-567f-42b8-e2e1-b95913a4d1a8"
      },
      "outputs": [],
      "source": [
        "! wc -l source-bpe.codes target-bpe.codes"
      ]
    },
    {
      "cell_type": "markdown",
      "metadata": {
        "id": "Z54ceN8tBJWn"
      },
      "source": [
        "## BPE Parallel Corpus Sentence Pairs (Linux)"
      ]
    },
    {
      "cell_type": "code",
      "execution_count": null,
      "metadata": {
        "colab": {
          "base_uri": "https://localhost:8080/"
        },
        "id": "D8CHJKOKBQ5v",
        "outputId": "cbb0b95f-e5a6-4874-e9b0-ba8389dc1d93"
      },
      "outputs": [],
      "source": [
        "! wc -l source_train_bpe.txt target_train_bpe.txt source_valid_bpe.txt target_valid_bpe.txt source_test_bpe.txt target_test_bpe.txt"
      ]
    }
  ],
  "metadata": {
    "colab": {
      "name": "IITB_En_Hi_Get_Data.ipynb",
      "provenance": []
    },
    "kernelspec": {
      "display_name": "Python 3",
      "name": "python3"
    },
    "language_info": {
      "codemirror_mode": {
        "name": "ipython",
        "version": 3
      },
      "file_extension": ".py",
      "mimetype": "text/x-python",
      "name": "python",
      "nbconvert_exporter": "python",
      "pygments_lexer": "ipython3",
      "version": "3.8.11"
    }
  },
  "nbformat": 4,
  "nbformat_minor": 0
}
